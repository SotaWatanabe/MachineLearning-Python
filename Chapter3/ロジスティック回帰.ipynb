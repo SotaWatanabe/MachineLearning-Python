{
 "cells": [
  {
   "cell_type": "markdown",
   "metadata": {},
   "source": [
    "<h1>ロジスティック回帰</h1>"
   ]
  },
  {
   "cell_type": "markdown",
   "metadata": {},
   "source": [
    "<p>パーセプトロンの学習規則は分類を目的とした機械学習のアルゴリズムを試してみる分には悪くないが、最大の問題点はクラスを完全に線形分離できない場合は決して収束しないという点である。<p>一方で、ロジティクス回帰は<font color=\"red\">分類モデルであり、非常に実装がし易いが、高い性能が発揮されるのは線形可能なクラスに関してのみ</font>である。</p>"
   ]
  },
  {
   "cell_type": "markdown",
   "metadata": {},
   "source": [
    "<p>ロジティクス関数はS字型をしており、シグモイド関数とも呼ばれる。</p>\n",
    "\n",
    "<div style=text-align:left;><img src=\"http://www.sist.ac.jp/~kanakubo/research/neuro/neuro2.png\" alt=\"シグモイド関数\" title=\"シグモイド関数\"></div>"
   ]
  },
  {
   "cell_type": "markdown",
   "metadata": {},
   "source": [
    "<p>シグモイド関数の実装</p>"
   ]
  },
  {
   "cell_type": "code",
   "execution_count": 1,
   "metadata": {
    "collapsed": true
   },
   "outputs": [],
   "source": [
    "#見た目を整えるための準備\n",
    "import matplotlib.pyplot as plt\n",
    "import numpy as np"
   ]
  },
  {
   "cell_type": "code",
   "execution_count": 2,
   "metadata": {
    "collapsed": true
   },
   "outputs": [],
   "source": [
    "#シグモイド関数を定義\n",
    "def sigmoid(x):\n",
    "    return 1.0 / (1.0+np.exp(-x))"
   ]
  },
  {
   "cell_type": "code",
   "execution_count": 3,
   "metadata": {
    "collapsed": false
   },
   "outputs": [
    {
     "data": {
      "image/png": "[encoded data removed]",
      "text/plain": [
       "<matplotlib.figure.Figure at 0x109da5ac8>"
      ]
     },
     "metadata": {},
     "output_type": "display_data"
    }
   ],
   "source": [
    "#区間の設定\n",
    "x = np.arange(-7,7,0.1)\n",
    "\n",
    "#シグモイド関数を実行 phiはφ（ファイ)の略\n",
    "phi_x=sigmoid(x)\n",
    "plt.plot(x, phi_x)\n",
    "\n",
    "#垂直線の追加、軸の上限と下限を追加\n",
    "plt.axvline(0.0, color=\"k\")\n",
    "plt.ylim(-0.1, 1.1)\n",
    "plt.xlabel(\"z\")\n",
    "plt.ylabel(\"$\\phi (z)$\")\n",
    "plt.yticks([0.0, 0.5, 1.0])\n",
    "\n",
    "#水平グリッド\n",
    "ax=plt.gca()\n",
    "ax.yaxis.grid(True)\n",
    "\n",
    "plt.show()"
   ]
  },
  {
   "cell_type": "code",
   "execution_count": 5,
   "metadata": {
    "collapsed": false
   },
   "outputs": [
    {
     "name": "stderr",
     "output_type": "stream",
     "text": [
      "/Users/watanabesouta/anaconda/lib/python3.6/site-packages/sklearn/cross_validation.py:41: DeprecationWarning: This module was deprecated in version 0.18 in favor of the model_selection module into which all the refactored classes and functions are moved. Also note that the interface of the new CV iterators are different from that of this module. This module will be removed in 0.20.\n",
      "  \"This module will be removed in 0.20.\", DeprecationWarning)\n",
      "/Users/watanabesouta/anaconda/lib/python3.6/site-packages/sklearn/linear_model/stochastic_gradient.py:73: DeprecationWarning: n_iter parameter is deprecated in 0.19 and will be removed in 0.21. Use max_iter and tol instead.\n",
      "  DeprecationWarning)\n"
     ]
    },
    {
     "name": "stdout",
     "output_type": "stream",
     "text": [
      "Misclassfied samples: 2\n"
     ]
    },
    {
     "data": {
      "text/plain": [
       "<matplotlib.legend.Legend at 0x1079a5940>"
      ]
     },
     "execution_count": 5,
     "metadata": {},
     "output_type": "execute_result"
    }
   ],
   "source": [
    "#sklearn１のコピー\n",
    "\n",
    "#import\n",
    "from sklearn import datasets\n",
    "import numpy as np\n",
    "#iris data\n",
    "iris=datasets.load_iris()\n",
    "\n",
    "x=iris.data[: , [2,3]]\n",
    "y=iris.target\n",
    "\n",
    "from sklearn.cross_validation import train_test_split\n",
    "\n",
    "#20%→Test data 80%→Train data\n",
    "x_train, x_test, y_train, y_test = train_test_split(x, y, test_size=0.2, random_state=0)\n",
    "\n",
    "from sklearn.preprocessing import StandardScaler\n",
    "sc=StandardScaler()\n",
    "#fitメソッドを呼び出すことによって、トレーニングデータから平均値と標準偏差を推定。\n",
    "sc.fit(x_train)\n",
    "#平均と標準偏差を用いて標準化\n",
    "x_train_std=sc.transform(x_train)\n",
    "x_test_std=sc.transform(x_test)\n",
    "#トレーニングデータセットを標準化したところでパーセプトロンモデルをトレーニングできる状態になる。\n",
    "\n",
    "from sklearn.linear_model import Perceptron\n",
    "#エポック数40、学習率0.1でパーセプトロンのインスタンスを生成。\n",
    "ppn = Perceptron(n_iter=40, eta0=0.1, random_state=0, shuffle=True)\n",
    "\n",
    "#トレーニングにモデルを適合させる\n",
    "ppn.fit(x_train_std, y_train)\n",
    "\n",
    "#上記のトレーニングを行った後は、テストデータでpredictメソッドを使って予測変換をすることができる。\n",
    "y_pred=ppn.predict(x_test_std)\n",
    "\n",
    "#誤分類のサンプル数を表示する。\n",
    "print(\"Misclassfied samples: %d\" % (y_test != y_pred).sum())\n",
    "\n",
    "#可視化のための下準備\n",
    "from matplotlib.colors import ListedColormap\n",
    "import matplotlib.pyplot as plt\n",
    "\n",
    "def plot_decision_regions(x,y, classifier, test_idx=None, resolution=0.02):\n",
    "    #マーカーとカラーマップの準備\n",
    "    markers=(\"s\",\"x\",\"o\",\"^\",\"v\")\n",
    "    colors=(\"red\",\"blue\",\"lightgreen\",\"gray\",\"cyan\")\n",
    "    cmap=ListedColormap(colors[:len(np.unique(y))])\n",
    "    \n",
    "    #決定領域のプロット\n",
    "    x1_min, x1_max = x[:,0].min()-1, x[:,0].max()+1\n",
    "    x2_min, x2_max = x[:,1].min()-1, x[:,1].max()+1\n",
    "    #グリッドポイントの生成\n",
    "    xx1,xx2 = np.meshgrid(np.arange(x1_min, x1_max, resolution), np.arange(x2_min, x2_max, resolution))\n",
    "    \n",
    "    z=classifier.predict(np.array([xx1.ravel(), xx2.ravel()]).T)\n",
    "    z=z.reshape(xx1.shape)\n",
    "    \n",
    "    #等高線のプロット\n",
    "    plt.contourf(xx1, xx2, z, alpha=0.4, cmap=cmap)\n",
    "    \n",
    "    #軸の範囲の設定\n",
    "    plt.xlim(xx1.min(), xx1.max())\n",
    "    plt.ylim(xx2.min(), xx2.max())\n",
    "    \n",
    "    #クラスごとにサンプルをプロット\n",
    "    for idx, cl in enumerate(np.unique(y)):\n",
    "        plt.scatter(x=x[y==cl,0], y=x[y==cl,1], alpha=0.8, c=cmap(idx), marker=markers[idx], label=cl)\n",
    "    \n",
    "    #テストサンプルをめだたせる\n",
    "    if test_idx:\n",
    "        x_test, y_test=x[test_idx, :], y[test_idx]\n",
    "        plt.scatter(x_test[:,0], x_test[:,1],c=\"\", alpha=1.0, linewidths=1, marker=\"o\", s=55, label=\"test set\")\n",
    "        \n",
    "#トレーニングデータとテストデータの結合\n",
    "x_combined_std=np.vstack((x_train_std, x_test_std))\n",
    "\n",
    "#トレーニングデータとテストデータのクラスラベルを結合\n",
    "y_combined=np.hstack((y_train, y_test))\n",
    "\n",
    "#決定境界のプロット\n",
    "plot_decision_regions(x=x_combined_std, y=y_combined, classifier=ppn,test_idx=range(105,150))\n",
    "\n",
    "#軸ラベルの設定\n",
    "plt.xlabel(\"petal length[standardized]\")\n",
    "plt.ylabel(\"petal width[standardized]\")\n",
    "\n",
    "#凡例の設定\n",
    "plt.legend(loc=\"upper left\")"
   ]
  },
  {
   "cell_type": "code",
   "execution_count": 6,
   "metadata": {
    "collapsed": false
   },
   "outputs": [
    {
     "data": {
      "text/plain": [
       "LogisticRegression(C=1000, class_weight=None, dual=False, fit_intercept=True,\n",
       "          intercept_scaling=1, max_iter=100, multi_class='ovr', n_jobs=1,\n",
       "          penalty='l2', random_state=0, solver='liblinear', tol=0.0001,\n",
       "          verbose=0, warm_start=False)"
      ]
     },
     "execution_count": 6,
     "metadata": {},
     "output_type": "execute_result"
    }
   ],
   "source": [
    "#sklearn.linear_model.LogisticRegressionクラスのfitメソッドを使って、標準化されたトレーニングセットでモデルをトレーニングする。\n",
    "from sklearn.linear_model import LogisticRegression\n",
    "\n",
    "#ロジスティック回帰のインスタンスを作成\n",
    "lr = LogisticRegression(C=1000, random_state=0)\n",
    "\n",
    "#トレーニングデータをモデルに適合させる\n",
    "lr.fit(x_train_std, y_train)\n",
    "\n",
    "#決定境界をプロット\n"
   ]
  },
  {
   "cell_type": "code",
   "execution_count": null,
   "metadata": {
    "collapsed": true
   },
   "outputs": [],
   "source": []
  }
 ],
 "metadata": {
  "kernelspec": {
   "display_name": "Python 3",
   "language": "python",
   "name": "python3"
  },
  "language_info": {
   "codemirror_mode": {
    "name": "ipython",
    "version": 3
   },
   "file_extension": ".py",
   "mimetype": "text/x-python",
   "name": "python",
   "nbconvert_exporter": "python",
   "pygments_lexer": "ipython3",
   "version": "3.6.0"
  }
 },
 "nbformat": 4,
 "nbformat_minor": 2
}
