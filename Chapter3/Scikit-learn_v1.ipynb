{
 "cells": [
  {
   "cell_type": "markdown",
   "metadata": {},
   "source": [
    "<h4>機械学習のアルゴリズムのトレーニング 主要な5steps</h4>\n",
    "<ol>\n",
    "    <li>特徴量を選択する</li>\n",
    "    <li>性能指標を選択する</li>\n",
    "    <li>分類器と最適化アルゴリズムを選択する</li>\n",
    "    <li>モデルの性能を評価する </li>\n",
    "    <li>アルゴリズムを調整する</li>\n",
    "</ol>"
   ]
  },
  {
   "cell_type": "code",
   "execution_count": 1,
   "metadata": {
    "collapsed": true
   },
   "outputs": [],
   "source": [
    "#import\n",
    "from sklearn import datasets\n",
    "import numpy as np\n",
    "#iris data\n",
    "iris=datasets.load_iris()"
   ]
  },
  {
   "cell_type": "markdown",
   "metadata": {},
   "source": [
    "<p>150のサンプルから「がくの長さ」と「花びらの長さ」を抽出する。それをXに代入し、対応する品種のクラスラベルをベクトルYに代入する</p>"
   ]
  },
  {
   "cell_type": "code",
   "execution_count": 2,
   "metadata": {
    "collapsed": false
   },
   "outputs": [],
   "source": [
    "x=iris.data[: , [2,3]]\n",
    "y=iris.target"
   ]
  },
  {
   "cell_type": "markdown",
   "metadata": {},
   "source": [
    "<p>トレーニングセットとテストセットに分割する。</p>"
   ]
  },
  {
   "cell_type": "code",
   "execution_count": 3,
   "metadata": {
    "collapsed": false
   },
   "outputs": [
    {
     "name": "stderr",
     "output_type": "stream",
     "text": [
      "/Users/watanabesouta/anaconda/lib/python3.6/site-packages/sklearn/cross_validation.py:41: DeprecationWarning: This module was deprecated in version 0.18 in favor of the model_selection module into which all the refactored classes and functions are moved. Also note that the interface of the new CV iterators are different from that of this module. This module will be removed in 0.20.\n",
      "  \"This module will be removed in 0.20.\", DeprecationWarning)\n"
     ]
    }
   ],
   "source": [
    "from sklearn.cross_validation import train_test_split\n",
    "\n",
    "#20%→Test data 80%→Train data\n",
    "x_train, x_test, y_train, y_test = train_test_split(x, y, test_size=0.2, random_state=0)"
   ]
  },
  {
   "cell_type": "markdown",
   "metadata": {},
   "source": [
    "<p>最適な性能を得るために特徴量のスクリーニングが必要となる。scikit-learnのpreprocessingモジュールのStandardScalerクラスを使って特徴量を標準化する。</p>"
   ]
  },
  {
   "cell_type": "code",
   "execution_count": 8,
   "metadata": {
    "collapsed": false
   },
   "outputs": [],
   "source": [
    "from sklearn.preprocessing import StandardScaler\n",
    "sc=StandardScaler()\n",
    "#fitメソッドを呼び出すことによって、トレーニングデータから平均値と標準偏差を推定。\n",
    "sc.fit(x_train)\n",
    "#平均と標準偏差を用いて標準化\n",
    "x_train_std=sc.transform(x_train)\n",
    "x_test_std=sc.transform(x_test)\n",
    "#トレーニングデータセットを標準化したところでパーセプトロンモデルをトレーニングできる状態になる。"
   ]
  },
  {
   "cell_type": "code",
   "execution_count": 9,
   "metadata": {
    "collapsed": false
   },
   "outputs": [
    {
     "name": "stderr",
     "output_type": "stream",
     "text": [
      "/Users/watanabesouta/anaconda/lib/python3.6/site-packages/sklearn/linear_model/stochastic_gradient.py:73: DeprecationWarning: n_iter parameter is deprecated in 0.19 and will be removed in 0.21. Use max_iter and tol instead.\n",
      "  DeprecationWarning)\n"
     ]
    },
    {
     "data": {
      "text/plain": [
       "Perceptron(alpha=0.0001, class_weight=None, eta0=0.1, fit_intercept=True,\n",
       "      max_iter=40, n_iter=None, n_jobs=1, penalty=None, random_state=0,\n",
       "      shuffle=True, tol=None, verbose=0, warm_start=False)"
      ]
     },
     "execution_count": 9,
     "metadata": {},
     "output_type": "execute_result"
    }
   ],
   "source": [
    "from sklearn.linear_model import Perceptron\n",
    "#エポック数40、学習率0.1でパーセプトロンのインスタンスを生成。\n",
    "ppn = Perceptron(n_iter=40, eta0=0.1, random_state=0, shuffle=True)\n",
    "\n",
    "#トレーニングにモデルを適合させる\n",
    "ppn.fit(x_train_std, y_train)"
   ]
  },
  {
   "cell_type": "code",
   "execution_count": 11,
   "metadata": {
    "collapsed": false
   },
   "outputs": [
    {
     "name": "stdout",
     "output_type": "stream",
     "text": [
      "Misclassfied samples: 2\n"
     ]
    }
   ],
   "source": [
    "#上記のトレーニングを行った後は、テストデータでpredictメソッドを使って予測変換をすることができる。\n",
    "y_pred=ppn.predict(x_test_std)\n",
    "\n",
    "#誤分類のサンプル数を表示する。\n",
    "print(\"Misclassfied samples: %d\" % (y_test != y_pred).sum())"
   ]
  },
  {
   "cell_type": "code",
   "execution_count": 35,
   "metadata": {
    "collapsed": true
   },
   "outputs": [],
   "source": [
    "#可視化のための下準備\n",
    "from matplotlib.colors import ListedColormap\n",
    "import matplotlib.pyplot as plt\n",
    "\n",
    "def plot_decision_regions(x,y, classifier, test_idx=None, resolution=0.02):\n",
    "    #マーカーとカラーマップの準備\n",
    "    markers=(\"s\",\"x\",\"o\",\"^\",\"v\")\n",
    "    colors=(\"red\",\"blue\",\"lightgreen\",\"gray\",\"cyan\")\n",
    "    cmap=ListedColormap(colors[:len(np.unique(y))])\n",
    "    \n",
    "    #決定領域のプロット\n",
    "    x1_min, x1_max = x[:,0].min()-1, x[:,0].max()+1\n",
    "    x2_min, x2_max = x[:,1].min()-1, x[:,1].max()+1\n",
    "    #グリッドポイントの生成\n",
    "    xx1,xx2 = np.meshgrid(np.arange(x1_min, x1_max, resolution), np.arange(x2_min, x2_max, resolution))\n",
    "    \n",
    "    z=classifier.predict(np.array([xx1.ravel(), xx2.ravel()]).T)\n",
    "    z=z.reshape(xx1.shape)\n",
    "    \n",
    "    #等高線のプロット\n",
    "    plt.contourf(xx1, xx2, z, alpha=0.4, cmap=cmap)\n",
    "    \n",
    "    #軸の範囲の設定\n",
    "    plt.xlim(xx1.min(), xx1.max())\n",
    "    plt.ylim(xx2.min(), xx2.max())\n",
    "    \n",
    "    #クラスごとにサンプルをプロット\n",
    "    for idx, cl in enumerate(np.unique(y)):\n",
    "        plt.scatter(x=x[y==cl,0], y=x[y==cl,1], alpha=0.8, c=cmap(idx), marker=markers[idx], label=cl)\n",
    "    \n",
    "    #テストサンプルをめだたせる\n",
    "    if test_idx:\n",
    "        x_test, y_test=x[test_idx, :], y[test_idx]\n",
    "        plt.scatter(x_test[:,0], x_test[:,1],c=\"\", alpha=1.0, linewidths=1, marker=\"o\", s=55, label=\"test set\")"
   ]
  },
  {
   "cell_type": "code",
   "execution_count": 39,
   "metadata": {
    "collapsed": false
   },
   "outputs": [
    {
     "data": {
      "image/png": "[encoded data removed]",
      "text/plain": [
       "<matplotlib.figure.Figure at 0x1a18b1d908>"
      ]
     },
     "metadata": {},
     "output_type": "display_data"
    }
   ],
   "source": [
    "#トレーニングデータとテストデータの結合\n",
    "x_combined_std=np.vstack((x_train_std, x_test_std))\n",
    "\n",
    "#トレーニングデータとテストデータのクラスラベルを結合\n",
    "y_combined=np.hstack((y_train, y_test))\n",
    "\n",
    "#決定境界のプロット\n",
    "plot_decision_regions(x=x_combined_std, y=y_combined, classifier=ppn,test_idx=range(105,150))\n",
    "\n",
    "#軸ラベルの設定\n",
    "plt.xlabel(\"petal length[standardized]\")\n",
    "plt.ylabel(\"petal width[standardized]\")\n",
    "\n",
    "#凡例の設定\n",
    "plt.legend(loc=\"upper left\")\n",
    "\n",
    "plt.show()"
   ]
  },
  {
   "cell_type": "code",
   "execution_count": null,
   "metadata": {
    "collapsed": true
   },
   "outputs": [],
   "source": [
    "#sklearnのadditionalな情報\n",
    "http://scikit-learn.org/stable/"
   ]
  }
 ],
 "metadata": {
  "kernelspec": {
   "display_name": "Python 3",
   "language": "python",
   "name": "python3"
  },
  "language_info": {
   "codemirror_mode": {
    "name": "ipython",
    "version": 3
   },
   "file_extension": ".py",
   "mimetype": "text/x-python",
   "name": "python",
   "nbconvert_exporter": "python",
   "pygments_lexer": "ipython3",
   "version": "3.6.0"
  }
 },
 "nbformat": 4,
 "nbformat_minor": 2
}
